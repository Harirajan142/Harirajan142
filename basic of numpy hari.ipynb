{
 "cells": [
  {
   "cell_type": "code",
   "execution_count": 10,
   "id": "4f196c55-1ff1-4649-8f57-9eb7fd101c6e",
   "metadata": {},
   "outputs": [
    {
     "name": "stdout",
     "output_type": "stream",
     "text": [
      "Array created using passed list:\n",
      " [[1 2 4]\n",
      " [5 8 7]]\n"
     ]
    }
   ],
   "source": [
    "import numpy as np\n",
    "a=np.array([[1,2,4],[5,8,7]])\n",
    "print(\"Array created using passed list:\\n\",a)"
   ]
  },
  {
   "cell_type": "code",
   "execution_count": 26,
   "id": "1e678c59-92b8-4406-af9b-a5e51a0215b9",
   "metadata": {},
   "outputs": [
    {
     "name": "stdout",
     "output_type": "stream",
     "text": [
      "\n",
      "An array initialized with all zeros:\n",
      " [[0. 0. 0. 0.]\n",
      " [0. 0. 0. 0.]\n",
      " [0. 0. 0. 0.]]\n"
     ]
    }
   ],
   "source": [
    "b=np.zeros((3,4))\n",
    "print(\"\\nAn array initialized with all zeros:\\n\", b)"
   ]
  },
  {
   "cell_type": "code",
   "execution_count": 30,
   "id": "966d9ea4-84ff-4858-908e-a00054ed2a13",
   "metadata": {},
   "outputs": [
    {
     "name": "stdout",
     "output_type": "stream",
     "text": [
      "\n",
      "An array initialized with all 6s.\n",
      " [[6 6 6]\n",
      " [6 6 6]\n",
      " [6 6 6]]\n"
     ]
    }
   ],
   "source": [
    "c=np.full((3,3),6)\n",
    "print (\"\\nAn array initialized with all 6s.\\n\", c)"
   ]
  },
  {
   "cell_type": "code",
   "execution_count": 32,
   "id": "dbfb7f83-1a5e-4cd1-835f-884ae0c1b6c9",
   "metadata": {},
   "outputs": [
    {
     "name": "stdout",
     "output_type": "stream",
     "text": [
      "\n",
      "A random array:\n",
      " [[0.88946435 0.19072584]\n",
      " [0.14912177 0.73652382]]\n"
     ]
    }
   ],
   "source": [
    "d=np.random.random((2,2))\n",
    "print (\"\\nA random array:\\n\", d)"
   ]
  },
  {
   "cell_type": "code",
   "execution_count": 34,
   "id": "9883dadb-086d-4aae-bb88-d9e3884363ac",
   "metadata": {},
   "outputs": [
    {
     "name": "stdout",
     "output_type": "stream",
     "text": [
      "\n",
      "A sequential array with steps of 5:\n",
      " [ 0  5 10 15 20 25 30 35 40 45]\n"
     ]
    }
   ],
   "source": [
    "e=np.arange(0,50,5)\n",
    "print (\"\\nA sequential array with steps of 5:\\n\", e)"
   ]
  },
  {
   "cell_type": "code",
   "execution_count": 36,
   "id": "9ba55627-6707-4f38-93e1-a1deb90b623a",
   "metadata": {},
   "outputs": [
    {
     "name": "stdout",
     "output_type": "stream",
     "text": [
      "\n",
      "Original array:\n",
      " [[1 2 3 4]\n",
      " [5 2 4 2]\n",
      " [1 2 0 1]]\n",
      "Reshaped array[4,3]:\n",
      " [[1 2 3]\n",
      " [4 5 2]\n",
      " [4 2 1]\n",
      " [2 0 1]]\n"
     ]
    }
   ],
   "source": [
    "arr=np.array([[1,2,3,4],\n",
    "              [5,2,4,2],\n",
    "              [1,2,0,1]])\n",
    "newarr=arr.reshape(4,3)\n",
    "print (\"\\nOriginal array:\\n\", arr)\n",
    "print (\"Reshaped array[4,3]:\\n\", newarr)"
   ]
  },
  {
   "cell_type": "code",
   "execution_count": 38,
   "id": "c248e1f5-7716-4a8f-9519-8cde91f4f3b3",
   "metadata": {},
   "outputs": [
    {
     "name": "stdout",
     "output_type": "stream",
     "text": [
      "2\n"
     ]
    }
   ],
   "source": [
    "print(arr.ndim)"
   ]
  },
  {
   "cell_type": "code",
   "execution_count": 40,
   "id": "6b176542-6684-4bfc-b3e5-1695d6ad9831",
   "metadata": {},
   "outputs": [
    {
     "name": "stdout",
     "output_type": "stream",
     "text": [
      "(3, 4)\n"
     ]
    }
   ],
   "source": [
    "print(arr.shape)"
   ]
  },
  {
   "cell_type": "code",
   "execution_count": 42,
   "id": "263e4be2-6514-4bc0-a29a-2b4a8d84d1dc",
   "metadata": {},
   "outputs": [
    {
     "name": "stdout",
     "output_type": "stream",
     "text": [
      "int32\n"
     ]
    }
   ],
   "source": [
    "print(arr.dtype)"
   ]
  },
  {
   "cell_type": "code",
   "execution_count": 44,
   "id": "9053ee20-13a3-426b-ba9f-8942c1068fc6",
   "metadata": {},
   "outputs": [
    {
     "name": "stdout",
     "output_type": "stream",
     "text": [
      "[1 2 3 4 5 2 4 2 1 2 0 1]\n"
     ]
    }
   ],
   "source": [
    "flarr=arr.flatten()\n",
    "print(flarr)"
   ]
  },
  {
   "cell_type": "code",
   "execution_count": 46,
   "id": "7d9434d3-e99b-4d06-89f5-c936ce71eebe",
   "metadata": {},
   "outputs": [
    {
     "name": "stdout",
     "output_type": "stream",
     "text": [
      "[[1. 2. 3. 4.]\n",
      " [5. 2. 4. 2.]\n",
      " [1. 2. 0. 1.]]\n"
     ]
    }
   ],
   "source": [
    "newtype=arr.astype('f')\n",
    "print(newtype)"
   ]
  },
  {
   "cell_type": "code",
   "execution_count": 48,
   "id": "d8465dd2-0342-46a5-80d2-abcd738bf86c",
   "metadata": {},
   "outputs": [
    {
     "name": "stdout",
     "output_type": "stream",
     "text": [
      "[[1 2 3 4]\n",
      " [5 2 4 2]\n",
      " [1 2 0 1]]\n"
     ]
    }
   ],
   "source": [
    "newtype=arr.astype('i')\n",
    "print(newtype)"
   ]
  },
  {
   "cell_type": "code",
   "execution_count": 50,
   "id": "7a981f31-a263-46be-949d-ec1c049b0837",
   "metadata": {},
   "outputs": [
    {
     "name": "stdout",
     "output_type": "stream",
     "text": [
      "[[0. 0. 0. 0.]\n",
      " [1. 1. 1. 1.]\n",
      " [2. 2. 2. 2.]\n",
      " [3. 3. 3. 3.]\n",
      " [4. 4. 4. 4.]\n",
      " [5. 5. 5. 5.]\n",
      " [6. 6. 6. 6.]\n",
      " [7. 7. 7. 7.]]\n",
      "[[4. 4. 4. 4.]\n",
      " [3. 3. 3. 3.]\n",
      " [0. 0. 0. 0.]\n",
      " [6. 6. 6. 6.]]\n",
      "[[5. 5. 5. 5.]\n",
      " [3. 3. 3. 3.]\n",
      " [1. 1. 1. 1.]]\n"
     ]
    }
   ],
   "source": [
    "arr=np.empty((8,4))\n",
    "for i in range(8):\n",
    "    arr[i]=i\n",
    "print(arr)\n",
    "print (arr[[4, 3, 0, 6]])\n",
    "print (arr[[-3, -5, -7]])"
   ]
  },
  {
   "cell_type": "code",
   "execution_count": 52,
   "id": "38759b40-c5e8-40f7-ab73-5fa8f14c0a24",
   "metadata": {},
   "outputs": [
    {
     "name": "stdout",
     "output_type": "stream",
     "text": [
      "[[ 0  1  2  3  4]\n",
      " [ 5  6  7  8  9]\n",
      " [10 11 12 13 14]]\n",
      "(3, 5)\n",
      "[[ 0  5 10]\n",
      " [ 1  6 11]\n",
      " [ 2  7 12]\n",
      " [ 3  8 13]\n",
      " [ 4  9 14]]\n",
      "(5, 3)\n"
     ]
    }
   ],
   "source": [
    "arr=np.arange(15).reshape((3,5))\n",
    "print (arr)\n",
    "print (arr.shape)\n",
    "print (arr.T)\n",
    "print (arr.T.shape)"
   ]
  },
  {
   "cell_type": "code",
   "execution_count": 54,
   "id": "11836cdd-e975-47f3-8606-25ecdef038d5",
   "metadata": {},
   "outputs": [
    {
     "name": "stdout",
     "output_type": "stream",
     "text": [
      "every alternate row\n",
      " [[1 2 3 4]\n",
      " [3 5 8 9]]\n",
      "first 2 rows and 3 columns\n",
      " [[1 2 3]\n",
      " [5 2 4]]\n",
      "except first 2 rows and 2columns\n",
      " [[8 9]\n",
      " [2 0]\n",
      " [0 1]]\n",
      "extracting 2nd row, 3rd value\n",
      " 9\n",
      "first 2 rows\n",
      " [[1 2 3 4]\n",
      " [5 2 4 2]]\n",
      "except first 3 rows\n",
      " [[5 9 2 0]\n",
      " [1 2 0 1]]\n",
      "first 3 columns\n",
      " [[1 2 3]\n",
      " [5 2 4]\n",
      " [3 5 8]\n",
      " [5 9 2]\n",
      " [1 2 0]]\n"
     ]
    }
   ],
   "source": [
    "arr = np.array([[1, 2, 3, 4],\n",
    "[5, 2, 4, 2],\n",
    "[3, 5, 8, 9],\n",
    "[5, 9, 2, 0],\n",
    "[1, 2, 0, 1]])\n",
    "print(\"every alternate row\\n\",arr[0:4:2])\n",
    "print(\"first 2 rows and 3 columns\\n\",arr[:2,:3])\n",
    "print(\"except first 2 rows and 2columns\\n\",arr[2:,2:])\n",
    "print(\"extracting 2nd row, 3rd value\\n\",arr[2,3])\n",
    "print(\"first 2 rows\\n\", arr[:2])\n",
    "print(\"except first 3 rows\\n\",arr[3:])\n",
    "print(\"first 3 columns\\n\",arr[:,:3])"
   ]
  },
  {
   "cell_type": "code",
   "execution_count": 56,
   "id": "ae811bf7-f280-418e-b5cf-439d876cbe3c",
   "metadata": {},
   "outputs": [
    {
     "name": "stdout",
     "output_type": "stream",
     "text": [
      "Original array:\n",
      " [[1 2 3 4]\n",
      " [5 2 4 2]\n",
      " [3 5 8 9]\n",
      " [5 9 2 0]\n",
      " [1 2 0 1]]\n",
      "\n",
      "Elements at indices (0, 3), (1, 2), (2, 1),(3, 0):\n",
      " [4 4 5 5]\n"
     ]
    }
   ],
   "source": [
    "print(\"Original array:\\n\", arr)\n",
    "temp = arr[[0, 1, 2, 3], [3, 2, 1, 0]]\n",
    "print (\"\\nElements at indices (0, 3), (1, 2), (2, 1),\"\"(3, 0):\\n\", temp)"
   ]
  },
  {
   "cell_type": "code",
   "execution_count": 58,
   "id": "e9c6681e-7686-42bb-85dd-09cc55246dce",
   "metadata": {},
   "outputs": [
    {
     "name": "stdout",
     "output_type": "stream",
     "text": [
      "[3 4 5 4 3 5 8 9 5 9]\n"
     ]
    }
   ],
   "source": [
    "cond= arr>2\n",
    "temp=arr[cond]\n",
    "print(temp)"
   ]
  },
  {
   "cell_type": "code",
   "execution_count": 70,
   "id": "bc9a9c15-718d-44ae-ab53-5fc5de0d776a",
   "metadata": {},
   "outputs": [
    {
     "name": "stdout",
     "output_type": "stream",
     "text": [
      "\n",
      " orginal arrays:\n",
      " [1 2 3] [4 5 6]\n",
      "\n",
      " joined array:\n",
      " [1 2 3 4 5 6]\n"
     ]
    }
   ],
   "source": [
    "arr1 = np.array([1,2,3])\n",
    "arr2 = np.array([4,5,6])\n",
    "arr =  np.concatenate((arr1,arr2))\n",
    "print(\"\\n orginal arrays:\\n\",arr1,arr2)\n",
    "print(\"\\n joined array:\\n\",arr)"
   ]
  },
  {
   "cell_type": "code",
   "execution_count": 74,
   "id": "8f4a5255-17e6-406e-b477-e3d05a80e239",
   "metadata": {},
   "outputs": [
    {
     "name": "stdout",
     "output_type": "stream",
     "text": [
      "\n",
      "horizontal joining:\n",
      " [1 2 3 4 5 6]\n"
     ]
    }
   ],
   "source": [
    "arr = np.hstack((arr1,arr2))\n",
    "print(\"\\nhorizontal joining:\\n\",arr)"
   ]
  },
  {
   "cell_type": "code",
   "execution_count": 76,
   "id": "557bb690-2932-48e6-be1b-e34f97e9fd80",
   "metadata": {},
   "outputs": [
    {
     "name": "stdout",
     "output_type": "stream",
     "text": [
      "\n",
      "Original arrays:\n",
      " [1 2 3] [4 5 6]\n",
      "\n",
      "Vertical joining:\n",
      " [[1 2 3]\n",
      " [4 5 6]]\n"
     ]
    }
   ],
   "source": [
    "print(\"\\nOriginal arrays:\\n\",arr1,arr2)\n",
    "arr = np.vstack((arr1, arr2))\n",
    "print(\"\\nVertical joining:\\n\",arr)"
   ]
  },
  {
   "cell_type": "code",
   "execution_count": 78,
   "id": "a1677e93-6f19-4a2d-985e-43e1b541e5e1",
   "metadata": {},
   "outputs": [
    {
     "name": "stdout",
     "output_type": "stream",
     "text": [
      "\n",
      "Depth joining:\n",
      " [[[1 4]\n",
      "  [2 5]\n",
      "  [3 6]]]\n"
     ]
    }
   ],
   "source": [
    "arr = np.dstack((arr1, arr2))\n",
    "print(\"\\nDepth joining:\\n\",arr)"
   ]
  },
  {
   "cell_type": "code",
   "execution_count": 80,
   "id": "490855b3-db23-474b-9155-45faf63486de",
   "metadata": {},
   "outputs": [
    {
     "name": "stdout",
     "output_type": "stream",
     "text": [
      "\n",
      "Original Array:\n",
      " [1 2 3 4 5 6]\n",
      "\n",
      "Splitted array:\n",
      " [array([1, 2]), array([3, 4]), array([5, 6])]\n"
     ]
    }
   ],
   "source": [
    "arr = np.array([1, 2, 3, 4, 5, 6])\n",
    "newarr = np.array_split(arr, 3)\n",
    "print(\"\\nOriginal Array:\\n\",arr)\n",
    "print(\"\\nSplitted array:\\n\",newarr)"
   ]
  },
  {
   "cell_type": "code",
   "execution_count": 82,
   "id": "b8a7e2cd-38d8-4f81-af52-33b213fa18c3",
   "metadata": {},
   "outputs": [
    {
     "name": "stdout",
     "output_type": "stream",
     "text": [
      "\n",
      "Split array in another form:\n",
      "\n",
      "[1 2]\n",
      "[3 4]\n",
      "[5 6]\n"
     ]
    }
   ],
   "source": [
    "print(\"\\nSplit array in another form:\\n\")\n",
    "print(newarr[0])\n",
    "print(newarr[1])\n",
    "print(newarr[2])"
   ]
  },
  {
   "cell_type": "code",
   "execution_count": 90,
   "id": "6286d17b-c3aa-4e70-8435-fcd6f4ad0f04",
   "metadata": {},
   "outputs": [
    {
     "name": "stdout",
     "output_type": "stream",
     "text": [
      "Original array: [1 2 3 4 5 4 4 9 4]\n",
      "\n",
      "Indexes where the value is 4: (array([3, 5, 6, 8], dtype=int64),)\n"
     ]
    }
   ],
   "source": [
    "arr = np.array([1,2,3,4,5,4,4,9,4])\n",
    "print(\"Original array:\",arr)\n",
    "x = np.where(arr == 4)\n",
    "print(\"\\nIndexes where the value is 4:\",x)"
   ]
  },
  {
   "cell_type": "code",
   "execution_count": 96,
   "id": "9164abde-9546-48b8-a4cc-fa72c7b913b2",
   "metadata": {},
   "outputs": [
    {
     "name": "stdout",
     "output_type": "stream",
     "text": [
      "\n",
      "Original array:\n",
      " [1 2 3 4 5 6 7 8]\n",
      "\n",
      "Indexes where the values are even: (array([1, 3, 5, 7], dtype=int64),)\n"
     ]
    }
   ],
   "source": [
    "arr = np.array([1, 2, 3, 4, 5, 6, 7, 8])\n",
    "x = np.where(arr%2 == 0)\n",
    "print(\"\\nOriginal array:\\n\",arr)\n",
    "print(\"\\nIndexes where the values are even:\",x)"
   ]
  },
  {
   "cell_type": "code",
   "execution_count": 98,
   "id": "4610785e-1de6-484a-beee-482d4d56f868",
   "metadata": {},
   "outputs": [
    {
     "name": "stdout",
     "output_type": "stream",
     "text": [
      "[3 2 0 1]\n",
      "[0 1 2 3]\n"
     ]
    }
   ],
   "source": [
    "arr = np.array([3,2,0,1])\n",
    "print(arr)\n",
    "print(np.sort(arr))"
   ]
  },
  {
   "cell_type": "code",
   "execution_count": 100,
   "id": "23be428b-9bb0-49a3-a355-d19395d8addd",
   "metadata": {},
   "outputs": [
    {
     "name": "stdout",
     "output_type": "stream",
     "text": [
      "[[3 2 4]\n",
      " [5 0 1]]\n",
      "[[2 3 4]\n",
      " [0 1 5]]\n"
     ]
    }
   ],
   "source": [
    "arr = np.array([[3,2,4],[5,0,1]])\n",
    "print(arr)\n",
    "print(np.sort(arr))"
   ]
  },
  {
   "cell_type": "code",
   "execution_count": 106,
   "id": "c662b890-5123-422f-864c-740aec9e10c9",
   "metadata": {},
   "outputs": [
    {
     "name": "stdout",
     "output_type": "stream",
     "text": [
      "[41 42 43 44]\n",
      "[True, True, True, False]\n",
      "[41 42 43]\n"
     ]
    }
   ],
   "source": [
    "#filter\n",
    "arr = np.array([41,42,43,44])\n",
    "x=[True,True,True,False]\n",
    "newarr=arr[x]\n",
    "print(arr)\n",
    "print(x)\n",
    "print(newarr)"
   ]
  },
  {
   "cell_type": "code",
   "execution_count": 110,
   "id": "62d53dbd-a339-46da-bd5b-b95ec0ffb31e",
   "metadata": {},
   "outputs": [
    {
     "name": "stdout",
     "output_type": "stream",
     "text": [
      "[41 42 43 44]\n",
      "[False False  True  True]\n",
      "[43 44]\n"
     ]
    }
   ],
   "source": [
    "arr = np.array([41, 42, 43, 44])\n",
    "filter_arr = arr > 42\n",
    "newarr = arr[filter_arr]\n",
    "print(arr)\n",
    "print(filter_arr)\n",
    "print(newarr)"
   ]
  },
  {
   "cell_type": "code",
   "execution_count": 112,
   "id": "49cf9b0f-87e5-46ea-8dd7-494709050306",
   "metadata": {},
   "outputs": [
    {
     "name": "stdout",
     "output_type": "stream",
     "text": [
      "[10 20 30 40 50]\n",
      "[ 2  4  5  8 10]\n"
     ]
    }
   ],
   "source": [
    "arr1=[10,20,30,40,50] \n",
    "arr2=[2,4,5,8,10]\n",
    "a=np.array(arr1)\n",
    "b=np.array(arr2)\n",
    "print(a) \n",
    "print(b)"
   ]
  },
  {
   "cell_type": "code",
   "execution_count": 114,
   "id": "40bcb2cd-875f-4a47-9925-dcf7781dd2c8",
   "metadata": {},
   "outputs": [
    {
     "name": "stdout",
     "output_type": "stream",
     "text": [
      "[12 24 35 48 60]\n",
      "[ 8 16 25 32 40]\n",
      "[ 20  80 150 320 500]\n",
      "[5. 5. 6. 5. 5.]\n",
      "1070\n"
     ]
    }
   ],
   "source": [
    "print(a+b)\n",
    "print(a-b)\n",
    "print(a*b)\n",
    "print(a/b)\n",
    "print(a.dot(b))"
   ]
  },
  {
   "cell_type": "code",
   "execution_count": 120,
   "id": "34688fc4-8b48-4023-a40f-8e41b9683537",
   "metadata": {},
   "outputs": [
    {
     "name": "stdout",
     "output_type": "stream",
     "text": [
      " scalar value = 5\n",
      "array = [10 20 30 40 50]\n",
      " result = [ 50 100 150 200 250]\n"
     ]
    }
   ],
   "source": [
    "sclr=5\n",
    "print(\" scalar value =\",sclr)\n",
    "print( \"array =\",a)\n",
    "print(\" result =\",a*sclr)"
   ]
  },
  {
   "cell_type": "code",
   "execution_count": null,
   "id": "95b020bd-c586-44ad-bee4-1ba015ca8a67",
   "metadata": {},
   "outputs": [],
   "source": []
  }
 ],
 "metadata": {
  "kernelspec": {
   "display_name": "Python 3 (ipykernel)",
   "language": "python",
   "name": "python3"
  },
  "language_info": {
   "codemirror_mode": {
    "name": "ipython",
    "version": 3
   },
   "file_extension": ".py",
   "mimetype": "text/x-python",
   "name": "python",
   "nbconvert_exporter": "python",
   "pygments_lexer": "ipython3",
   "version": "3.12.4"
  }
 },
 "nbformat": 4,
 "nbformat_minor": 5
}
